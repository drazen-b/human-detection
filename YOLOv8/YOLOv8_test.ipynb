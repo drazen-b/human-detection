{
 "cells": [
  {
   "attachments": {},
   "cell_type": "markdown",
   "metadata": {},
   "source": [
    "# Dowloading test data"
   ]
  },
  {
   "cell_type": "code",
   "execution_count": 1,
   "metadata": {},
   "outputs": [
    {
     "name": "stdout",
     "output_type": "stream",
     "text": [
      "Collecting fiftyone\n",
      "  Using cached fiftyone-0.19.1-py3-none-any.whl (3.7 MB)\n",
      "Collecting future\n",
      "  Using cached future-0.18.3-py3-none-any.whl\n",
      "Requirement already satisfied: Pillow>=6.2 in /home/drazen/anaconda3/envs/YOLOv8/lib/python3.10/site-packages (from fiftyone) (9.4.0)\n",
      "Requirement already satisfied: PyYAML in /home/drazen/anaconda3/envs/YOLOv8/lib/python3.10/site-packages (from fiftyone) (6.0)\n",
      "Collecting tabulate\n",
      "  Using cached tabulate-0.9.0-py3-none-any.whl (35 kB)\n",
      "Requirement already satisfied: cachetools in /home/drazen/.local/lib/python3.10/site-packages (from fiftyone) (5.2.1)\n",
      "Requirement already satisfied: packaging in /home/drazen/.local/lib/python3.10/site-packages (from fiftyone) (22.0)\n",
      "Collecting voxel51-eta<0.9,>=0.8.3\n",
      "  Using cached voxel51_eta-0.8.4-py2.py3-none-any.whl (564 kB)\n",
      "Collecting argcomplete\n",
      "  Using cached argcomplete-2.1.2-py3-none-any.whl (37 kB)\n",
      "Collecting eventlet\n",
      "  Using cached eventlet-0.33.3-py2.py3-none-any.whl (226 kB)\n",
      "Collecting sse-starlette<1,>=0.10.3\n",
      "  Using cached sse_starlette-0.10.3-py3-none-any.whl (8.0 kB)\n",
      "Collecting sseclient-py<2,>=1.7.2\n",
      "  Using cached sseclient_py-1.7.2-py2.py3-none-any.whl (8.4 kB)\n",
      "Collecting fiftyone-db<0.5,>=0.4\n",
      "  Using cached fiftyone_db-0.4.0-py3-none-manylinux1_x86_64.whl (37.8 MB)\n",
      "Requirement already satisfied: scikit-learn in /home/drazen/.local/lib/python3.10/site-packages (from fiftyone) (1.1.3)\n",
      "Collecting strawberry-graphql==0.138.1\n",
      "  Using cached strawberry_graphql-0.138.1-py3-none-any.whl (192 kB)\n",
      "Collecting ndjson\n",
      "  Using cached ndjson-0.3.1-py2.py3-none-any.whl (5.3 kB)\n",
      "Collecting boto3\n",
      "  Using cached boto3-1.26.94-py3-none-any.whl (135 kB)\n",
      "Collecting plotly>=4.14\n",
      "  Using cached plotly-5.13.1-py2.py3-none-any.whl (15.2 MB)\n",
      "Requirement already satisfied: scikit-image in /home/drazen/.local/lib/python3.10/site-packages (from fiftyone) (0.20.0)\n",
      "Collecting dacite<1.8.0,>=1.6.0\n",
      "  Using cached dacite-1.7.0-py3-none-any.whl (12 kB)\n",
      "Collecting motor>=2.5\n",
      "  Using cached motor-3.1.1-py3-none-any.whl (56 kB)\n",
      "Collecting hypercorn>=0.13.2\n",
      "  Using cached Hypercorn-0.14.3-py3-none-any.whl (57 kB)\n",
      "Collecting universal-analytics-python3<2,>=1.0.1\n",
      "  Using cached universal_analytics_python3-1.1.1-py3-none-any.whl (10 kB)\n",
      "Collecting pprintpp\n",
      "  Using cached pprintpp-0.4.0-py2.py3-none-any.whl (16 kB)\n",
      "Collecting xmltodict\n",
      "  Using cached xmltodict-0.13.0-py2.py3-none-any.whl (10.0 kB)\n",
      "Collecting Deprecated\n",
      "  Using cached Deprecated-1.2.13-py2.py3-none-any.whl (9.6 kB)\n",
      "Requirement already satisfied: setuptools in /home/drazen/anaconda3/envs/YOLOv8/lib/python3.10/site-packages (from fiftyone) (67.6.0)\n",
      "Collecting kaleido\n",
      "  Using cached kaleido-0.2.1-py2.py3-none-manylinux1_x86_64.whl (79.9 MB)\n",
      "Collecting mongoengine==0.24.2\n",
      "  Using cached mongoengine-0.24.2-py3-none-any.whl (108 kB)\n",
      "Requirement already satisfied: numpy in /home/drazen/anaconda3/envs/YOLOv8/lib/python3.10/site-packages (from fiftyone) (1.24.2)\n",
      "Collecting fiftyone-brain<0.11,>=0.10\n",
      "  Using cached fiftyone_brain-0.10.0-py3-none-any.whl (51 kB)\n",
      "Collecting pymongo>=3.12\n",
      "  Using cached pymongo-4.3.3-cp310-cp310-manylinux_2_17_x86_64.manylinux2014_x86_64.whl (492 kB)\n",
      "Collecting starlette==0.20.4\n",
      "  Using cached starlette-0.20.4-py3-none-any.whl (63 kB)\n",
      "Collecting retrying\n",
      "  Using cached retrying-1.3.4-py3-none-any.whl (11 kB)\n",
      "Requirement already satisfied: pytz in /home/drazen/anaconda3/envs/YOLOv8/lib/python3.10/site-packages (from fiftyone) (2022.7.1)\n",
      "Requirement already satisfied: psutil in /home/drazen/.local/lib/python3.10/site-packages (from fiftyone) (5.9.4)\n",
      "Collecting aiofiles\n",
      "  Using cached aiofiles-23.1.0-py3-none-any.whl (14 kB)\n",
      "Collecting opencv-python-headless\n",
      "  Using cached opencv_python_headless-4.7.0.72-cp37-abi3-manylinux_2_17_x86_64.manylinux2014_x86_64.whl (49.2 MB)\n",
      "Requirement already satisfied: Jinja2>=3 in /home/drazen/.local/lib/python3.10/site-packages (from fiftyone) (3.1.2)\n",
      "Requirement already satisfied: pandas in /home/drazen/.local/lib/python3.10/site-packages (from fiftyone) (1.5.2)\n",
      "Requirement already satisfied: matplotlib in /home/drazen/.local/lib/python3.10/site-packages (from fiftyone) (3.6.2)\n",
      "Requirement already satisfied: anyio<5,>=3.4.0 in /home/drazen/.local/lib/python3.10/site-packages (from starlette==0.20.4->fiftyone) (3.6.2)\n",
      "Requirement already satisfied: typing_extensions<5.0.0,>=3.7.4 in /home/drazen/.local/lib/python3.10/site-packages (from strawberry-graphql==0.138.1->fiftyone) (4.4.0)\n",
      "Collecting graphql-core<3.3.0,>=3.2.0\n",
      "  Using cached graphql_core-3.2.3-py3-none-any.whl (202 kB)\n",
      "Requirement already satisfied: python-dateutil<3.0.0,>=2.7.0 in /home/drazen/.local/lib/python3.10/site-packages (from strawberry-graphql==0.138.1->fiftyone) (2.8.2)\n",
      "Requirement already satisfied: scipy>=1.2.0 in /home/drazen/.local/lib/python3.10/site-packages (from fiftyone-brain<0.11,>=0.10->fiftyone) (1.9.3)\n",
      "Collecting wsproto>=0.14.0\n",
      "  Using cached wsproto-1.2.0-py3-none-any.whl (24 kB)\n",
      "Collecting h2>=3.1.0\n",
      "  Using cached h2-4.1.0-py3-none-any.whl (57 kB)\n",
      "Collecting priority\n",
      "  Using cached priority-2.0.0-py3-none-any.whl (8.9 kB)\n",
      "Requirement already satisfied: h11 in /home/drazen/.local/lib/python3.10/site-packages (from hypercorn>=0.13.2->fiftyone) (0.14.0)\n",
      "Collecting toml\n",
      "  Using cached toml-0.10.2-py2.py3-none-any.whl (16 kB)\n",
      "Requirement already satisfied: MarkupSafe>=2.0 in /home/drazen/.local/lib/python3.10/site-packages (from Jinja2>=3->fiftyone) (2.1.1)\n",
      "Collecting tenacity>=6.2.0\n",
      "  Using cached tenacity-8.2.2-py3-none-any.whl (24 kB)\n",
      "Collecting dnspython<3.0.0,>=1.16.0\n",
      "  Using cached dnspython-2.3.0-py3-none-any.whl (283 kB)\n",
      "Requirement already satisfied: httpx>=0.10.0 in /home/drazen/.local/lib/python3.10/site-packages (from universal-analytics-python3<2,>=1.0.1->fiftyone) (0.23.1)\n",
      "Collecting patool\n",
      "  Using cached patool-1.12-py2.py3-none-any.whl (77 kB)\n",
      "Collecting dill\n",
      "  Using cached dill-0.3.6-py3-none-any.whl (110 kB)\n",
      "Collecting glob2\n",
      "  Using cached glob2-0.7-py2.py3-none-any.whl\n",
      "Collecting sortedcontainers\n",
      "  Using cached sortedcontainers-2.4.0-py2.py3-none-any.whl (29 kB)\n",
      "Requirement already satisfied: requests in /home/drazen/anaconda3/envs/YOLOv8/lib/python3.10/site-packages (from voxel51-eta<0.9,>=0.8.3->fiftyone) (2.28.2)\n",
      "Collecting tzlocal\n",
      "  Using cached tzlocal-4.3-py3-none-any.whl (20 kB)\n",
      "Requirement already satisfied: six in /home/drazen/anaconda3/envs/YOLOv8/lib/python3.10/site-packages (from voxel51-eta<0.9,>=0.8.3->fiftyone) (1.16.0)\n",
      "Requirement already satisfied: urllib3 in /home/drazen/anaconda3/envs/YOLOv8/lib/python3.10/site-packages (from voxel51-eta<0.9,>=0.8.3->fiftyone) (1.26.15)\n",
      "Collecting s3transfer<0.7.0,>=0.6.0\n",
      "  Using cached s3transfer-0.6.0-py3-none-any.whl (79 kB)\n",
      "Collecting botocore<1.30.0,>=1.29.94\n",
      "  Using cached botocore-1.29.94-py3-none-any.whl (10.5 MB)\n",
      "Collecting jmespath<2.0.0,>=0.7.1\n",
      "  Using cached jmespath-1.0.1-py3-none-any.whl (20 kB)\n",
      "Requirement already satisfied: wrapt<2,>=1.10 in /home/drazen/.local/lib/python3.10/site-packages (from Deprecated->fiftyone) (1.14.1)\n",
      "Collecting greenlet>=0.3\n",
      "  Using cached greenlet-2.0.2-cp310-cp310-manylinux_2_17_x86_64.manylinux2014_x86_64.whl (613 kB)\n",
      "Requirement already satisfied: cycler>=0.10 in /home/drazen/anaconda3/envs/YOLOv8/lib/python3.10/site-packages (from matplotlib->fiftyone) (0.10.0)\n",
      "Requirement already satisfied: fonttools>=4.22.0 in /home/drazen/.local/lib/python3.10/site-packages (from matplotlib->fiftyone) (4.38.0)\n",
      "Requirement already satisfied: kiwisolver>=1.0.1 in /home/drazen/.local/lib/python3.10/site-packages (from matplotlib->fiftyone) (1.4.4)\n",
      "Requirement already satisfied: contourpy>=1.0.1 in /home/drazen/.local/lib/python3.10/site-packages (from matplotlib->fiftyone) (1.0.6)\n",
      "Requirement already satisfied: pyparsing>=2.2.1 in /home/drazen/anaconda3/envs/YOLOv8/lib/python3.10/site-packages (from matplotlib->fiftyone) (2.4.7)\n",
      "Requirement already satisfied: lazy_loader>=0.1 in /home/drazen/.local/lib/python3.10/site-packages (from scikit-image->fiftyone) (0.1)\n",
      "Requirement already satisfied: PyWavelets>=1.1.1 in /home/drazen/.local/lib/python3.10/site-packages (from scikit-image->fiftyone) (1.4.1)\n",
      "Requirement already satisfied: networkx>=2.8 in /home/drazen/.local/lib/python3.10/site-packages (from scikit-image->fiftyone) (2.8.8)\n",
      "Requirement already satisfied: imageio>=2.4.1 in /home/drazen/.local/lib/python3.10/site-packages (from scikit-image->fiftyone) (2.26.0)\n",
      "Requirement already satisfied: tifffile>=2019.7.26 in /home/drazen/.local/lib/python3.10/site-packages (from scikit-image->fiftyone) (2023.3.15)\n",
      "Requirement already satisfied: threadpoolctl>=2.0.0 in /home/drazen/.local/lib/python3.10/site-packages (from scikit-learn->fiftyone) (3.1.0)\n",
      "Requirement already satisfied: joblib>=1.0.0 in /home/drazen/.local/lib/python3.10/site-packages (from scikit-learn->fiftyone) (1.2.0)\n",
      "Requirement already satisfied: sniffio>=1.1 in /home/drazen/.local/lib/python3.10/site-packages (from anyio<5,>=3.4.0->starlette==0.20.4->fiftyone) (1.3.0)\n",
      "Requirement already satisfied: idna>=2.8 in /home/drazen/anaconda3/envs/YOLOv8/lib/python3.10/site-packages (from anyio<5,>=3.4.0->starlette==0.20.4->fiftyone) (2.10)\n",
      "Collecting hyperframe<7,>=6.0\n",
      "  Using cached hyperframe-6.0.1-py3-none-any.whl (12 kB)\n",
      "Collecting hpack<5,>=4.0\n",
      "  Using cached hpack-4.0.0-py3-none-any.whl (32 kB)\n",
      "Requirement already satisfied: certifi in /home/drazen/anaconda3/envs/YOLOv8/lib/python3.10/site-packages (from httpx>=0.10.0->universal-analytics-python3<2,>=1.0.1->fiftyone) (2022.12.7)\n",
      "Requirement already satisfied: httpcore<0.17.0,>=0.15.0 in /home/drazen/.local/lib/python3.10/site-packages (from httpx>=0.10.0->universal-analytics-python3<2,>=1.0.1->fiftyone) (0.16.2)\n",
      "Requirement already satisfied: rfc3986[idna2008]<2,>=1.3 in /home/drazen/.local/lib/python3.10/site-packages (from httpx>=0.10.0->universal-analytics-python3<2,>=1.0.1->fiftyone) (1.5.0)\n",
      "Requirement already satisfied: charset-normalizer<4,>=2 in /home/drazen/anaconda3/envs/YOLOv8/lib/python3.10/site-packages (from requests->voxel51-eta<0.9,>=0.8.3->fiftyone) (3.1.0)\n",
      "Collecting pytz-deprecation-shim\n",
      "  Using cached pytz_deprecation_shim-0.1.0.post0-py2.py3-none-any.whl (15 kB)\n",
      "Collecting tzdata\n",
      "  Using cached tzdata-2022.7-py2.py3-none-any.whl (340 kB)\n",
      "Installing collected packages: sseclient-py, sortedcontainers, pprintpp, patool, ndjson, kaleido, glob2, xmltodict, wsproto, tzdata, toml, tenacity, tabulate, retrying, priority, opencv-python-headless, jmespath, hyperframe, hpack, greenlet, graphql-core, future, fiftyone-db, dnspython, dill, Deprecated, dacite, argcomplete, aiofiles, strawberry-graphql, starlette, pytz-deprecation-shim, pymongo, plotly, h2, eventlet, botocore, tzlocal, sse-starlette, s3transfer, motor, mongoengine, hypercorn, fiftyone-brain, voxel51-eta, universal-analytics-python3, boto3, fiftyone\n",
      "Successfully installed Deprecated-1.2.13 aiofiles-23.1.0 argcomplete-2.1.2 boto3-1.26.94 botocore-1.29.94 dacite-1.7.0 dill-0.3.6 dnspython-2.3.0 eventlet-0.33.3 fiftyone-0.19.1 fiftyone-brain-0.10.0 fiftyone-db-0.4.0 future-0.18.3 glob2-0.7 graphql-core-3.2.3 greenlet-2.0.2 h2-4.1.0 hpack-4.0.0 hypercorn-0.14.3 hyperframe-6.0.1 jmespath-1.0.1 kaleido-0.2.1 mongoengine-0.24.2 motor-3.1.1 ndjson-0.3.1 opencv-python-headless-4.7.0.72 patool-1.12 plotly-5.13.1 pprintpp-0.4.0 priority-2.0.0 pymongo-4.3.3 pytz-deprecation-shim-0.1.0.post0 retrying-1.3.4 s3transfer-0.6.0 sortedcontainers-2.4.0 sse-starlette-0.10.3 sseclient-py-1.7.2 starlette-0.20.4 strawberry-graphql-0.138.1 tabulate-0.9.0 tenacity-8.2.2 toml-0.10.2 tzdata-2022.7 tzlocal-4.3 universal-analytics-python3-1.1.1 voxel51-eta-0.8.4 wsproto-1.2.0 xmltodict-0.13.0\n"
     ]
    }
   ],
   "source": [
    "!pip install fiftyone"
   ]
  },
  {
   "cell_type": "code",
   "execution_count": 2,
   "metadata": {},
   "outputs": [],
   "source": [
    "import fiftyone\n",
    "import fiftyone.zoo"
   ]
  },
  {
   "cell_type": "code",
   "execution_count": 13,
   "metadata": {},
   "outputs": [
    {
     "name": "stdout",
     "output_type": "stream",
     "text": [
      "['coco-2014', 'coco-2017', 'kitti', 'kitti-multiview', 'open-images-v6', 'open-images-v7', 'voc-2007', 'voc-2012']\n"
     ]
    }
   ],
   "source": [
    "names = fiftyone.zoo.list_zoo_datasets(tags=[\"detection\", \"image\"])\n",
    "print(names)"
   ]
  },
  {
   "cell_type": "code",
   "execution_count": 9,
   "metadata": {},
   "outputs": [
    {
     "name": "stdout",
     "output_type": "stream",
     "text": [
      "Downloading split 'test' to './datasets/coco/test' if necessary\n",
      "Test split is unlabeled; ignoring classes requirement\n",
      "Downloading test info to './datasets/coco/tmp-download/image_info_test2017.zip'\n",
      " 100% |██████|    8.7Mb/8.7Mb [771.0ms elapsed, 0s remaining, 11.3Mb/s]     \n",
      "Extracting test info to 'datasets/coco/raw/image_info_test2017.json'\n",
      "Downloading 50 images\n",
      " 100% |████████████████████| 50/50 [3.7s elapsed, 0s remaining, 14.1 images/s]      \n",
      "Writing annotations for 50 downloaded samples to './datasets/coco/test/labels.json'\n",
      "Dataset info written to './datasets/coco/info.json'\n",
      "Loading existing dataset 'coco-2017-test-50'. To reload from disk, either delete the existing dataset or provide a custom `dataset_name` to use\n"
     ]
    }
   ],
   "source": [
    "dataset_dir = \"./datasets/coco\"\n",
    "\n",
    "dataset = fiftyone.zoo.load_zoo_dataset(\n",
    "    \"coco-2017\",\n",
    "    split=\"test\",\n",
    "    classes=[\"person\"],\n",
    "    label_field=\"person\",\n",
    "    max_samples=50,\n",
    "    dataset_dir=dataset_dir\n",
    ")"
   ]
  },
  {
   "cell_type": "code",
   "execution_count": 18,
   "metadata": {},
   "outputs": [
    {
     "name": "stdout",
     "output_type": "stream",
     "text": [
      "Ultralytics YOLOv8.0.54 🚀 Python-3.10.9 torch-2.0.0+cu117 CUDA:0 (NVIDIA GeForce GTX 1060 3GB, 3018MiB)\n",
      "Traceback (most recent call last):\n",
      "  File \"/home/drazen/anaconda3/envs/YOLOv8/bin/yolo\", line 8, in <module>\n",
      "    sys.exit(entrypoint())\n",
      "  File \"/home/drazen/anaconda3/envs/YOLOv8/lib/python3.10/site-packages/ultralytics/yolo/cfg/__init__.py\", line 318, in entrypoint\n",
      "    getattr(model, mode)(**overrides)  # default args from model\n",
      "  File \"/home/drazen/anaconda3/envs/YOLOv8/lib/python3.10/site-packages/torch/utils/_contextlib.py\", line 115, in decorate_context\n",
      "    return func(*args, **kwargs)\n",
      "  File \"/home/drazen/anaconda3/envs/YOLOv8/lib/python3.10/site-packages/ultralytics/yolo/engine/model.py\", line 224, in predict\n",
      "    self.predictor.setup_model(model=self.model, verbose=is_cli)\n",
      "  File \"/home/drazen/anaconda3/envs/YOLOv8/lib/python3.10/site-packages/ultralytics/yolo/engine/predictor.py\", line 227, in setup_model\n",
      "    self.model = AutoBackend(model,\n",
      "  File \"/home/drazen/anaconda3/envs/YOLOv8/lib/python3.10/site-packages/ultralytics/nn/autobackend.py\", line 92, in __init__\n",
      "    model = weights.to(device)\n",
      "  File \"/home/drazen/anaconda3/envs/YOLOv8/lib/python3.10/site-packages/torch/nn/modules/module.py\", line 1145, in to\n",
      "    return self._apply(convert)\n",
      "  File \"/home/drazen/anaconda3/envs/YOLOv8/lib/python3.10/site-packages/ultralytics/nn/tasks.py\", line 146, in _apply\n",
      "    self = super()._apply(fn)\n",
      "  File \"/home/drazen/anaconda3/envs/YOLOv8/lib/python3.10/site-packages/torch/nn/modules/module.py\", line 797, in _apply\n",
      "    module._apply(fn)\n",
      "  File \"/home/drazen/anaconda3/envs/YOLOv8/lib/python3.10/site-packages/torch/nn/modules/module.py\", line 797, in _apply\n",
      "    module._apply(fn)\n",
      "  File \"/home/drazen/anaconda3/envs/YOLOv8/lib/python3.10/site-packages/torch/nn/modules/module.py\", line 797, in _apply\n",
      "    module._apply(fn)\n",
      "  File \"/home/drazen/anaconda3/envs/YOLOv8/lib/python3.10/site-packages/torch/nn/modules/module.py\", line 820, in _apply\n",
      "    param_applied = fn(param)\n",
      "  File \"/home/drazen/anaconda3/envs/YOLOv8/lib/python3.10/site-packages/torch/nn/modules/module.py\", line 1143, in convert\n",
      "    return t.to(device, dtype if t.is_floating_point() or t.is_complex() else None, non_blocking)\n",
      "RuntimeError: CUDA error: out of memory\n",
      "CUDA kernel errors might be asynchronously reported at some other API call, so the stacktrace below might be incorrect.\n",
      "For debugging consider passing CUDA_LAUNCH_BLOCKING=1.\n",
      "Compile with `TORCH_USE_CUDA_DSA` to enable device-side assertions.\n",
      "\n",
      "Sentry is attempting to send 1 pending error messages\n",
      "Waiting up to 2 seconds\n",
      "Press Ctrl-C to quit\n"
     ]
    }
   ],
   "source": [
    "!yolo task=detect mode=predict model=./yolov8n.pt conf=0.25 source=./datasets/coco/test/data/000000000619.jpg save=True"
   ]
  }
 ],
 "metadata": {
  "kernelspec": {
   "display_name": "YOLOv8",
   "language": "python",
   "name": "python3"
  },
  "language_info": {
   "codemirror_mode": {
    "name": "ipython",
    "version": 3
   },
   "file_extension": ".py",
   "mimetype": "text/x-python",
   "name": "python",
   "nbconvert_exporter": "python",
   "pygments_lexer": "ipython3",
   "version": "3.10.9"
  },
  "orig_nbformat": 4,
  "vscode": {
   "interpreter": {
    "hash": "9d8bd49180ad1add6924bd3eba91ce9b9d3ca8f4c0039ac120404973792abc0c"
   }
  }
 },
 "nbformat": 4,
 "nbformat_minor": 2
}
